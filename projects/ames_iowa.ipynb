{
 "cells": [
  {
   "cell_type": "markdown",
   "metadata": {},
   "source": [
    "AMES IOWA HOSING Project Analysis"
   ]
  },
  {
   "cell_type": "code",
   "execution_count": 1,
   "metadata": {},
   "outputs": [],
   "source": [
    "import numpy as np\n",
    "import pandas as pd\n",
    "import matplotlib.pyplot as plt\n",
    "import seaborn as sns\n",
    "import io\n",
    "import requests\n",
    "import zipfile\n",
    "pd.set_option('display.max_columns', None)"
   ]
  },
  {
   "cell_type": "code",
   "execution_count": 2,
   "metadata": {},
   "outputs": [
    {
     "name": "stdout",
     "output_type": "stream",
     "text": [
      "200\n",
      "Data Fetched successfully\n"
     ]
    },
    {
     "data": {
      "text/plain": [
       "<bound method Response.raise_for_status of <Response [200]>>"
      ]
     },
     "execution_count": 2,
     "metadata": {},
     "output_type": "execute_result"
    }
   ],
   "source": [
    "url = 'https://github.com/mattharrison/datasets/raw/master/data/ames-housing-dataset.zip'\n",
    "response = requests.get(url)\n",
    "print(response.status_code)\n",
    "if(response.status_code == 200):\n",
    "    print(\"Data Fetched successfully\")\n",
    "else:\n",
    "    print(\"Failed to fetch Data \" + response.status_code)\n",
    "\n",
    "response.raise_for_status"
   ]
  },
  {
   "cell_type": "code",
   "execution_count": null,
   "metadata": {},
   "outputs": [
    {
     "name": "stdout",
     "output_type": "stream",
     "text": [
      "AmesHousing.csv\n",
      "   Order        PID  MS SubClass MS Zoning  Lot Frontage  Lot Area Street  \\\n",
      "0      1  526301100           20        RL         141.0     31770   Pave   \n",
      "1      2  526350040           20        RH          80.0     11622   Pave   \n",
      "2      3  526351010           20        RL          81.0     14267   Pave   \n",
      "3      4  526353030           20        RL          93.0     11160   Pave   \n",
      "4      5  527105010           60        RL          74.0     13830   Pave   \n",
      "\n",
      "  Alley Lot Shape Land Contour Utilities Lot Config Land Slope Neighborhood  \\\n",
      "0   NaN       IR1          Lvl    AllPub     Corner        Gtl        NAmes   \n",
      "1   NaN       Reg          Lvl    AllPub     Inside        Gtl        NAmes   \n",
      "2   NaN       IR1          Lvl    AllPub     Corner        Gtl        NAmes   \n",
      "3   NaN       Reg          Lvl    AllPub     Corner        Gtl        NAmes   \n",
      "4   NaN       IR1          Lvl    AllPub     Inside        Gtl      Gilbert   \n",
      "\n",
      "  Condition 1 Condition 2 Bldg Type House Style  Overall Qual  Overall Cond  \\\n",
      "0        Norm        Norm      1Fam      1Story             6             5   \n",
      "1       Feedr        Norm      1Fam      1Story             5             6   \n",
      "2        Norm        Norm      1Fam      1Story             6             6   \n",
      "3        Norm        Norm      1Fam      1Story             7             5   \n",
      "4        Norm        Norm      1Fam      2Story             5             5   \n",
      "\n",
      "   Year Built  Year Remod/Add Roof Style Roof Matl Exterior 1st Exterior 2nd  \\\n",
      "0        1960            1960        Hip   CompShg      BrkFace      Plywood   \n",
      "1        1961            1961      Gable   CompShg      VinylSd      VinylSd   \n",
      "2        1958            1958        Hip   CompShg      Wd Sdng      Wd Sdng   \n",
      "3        1968            1968        Hip   CompShg      BrkFace      BrkFace   \n",
      "4        1997            1998      Gable   CompShg      VinylSd      VinylSd   \n",
      "\n",
      "  Mas Vnr Type  Mas Vnr Area Exter Qual Exter Cond Foundation Bsmt Qual  \\\n",
      "0        Stone         112.0         TA         TA     CBlock        TA   \n",
      "1          NaN           0.0         TA         TA     CBlock        TA   \n",
      "2      BrkFace         108.0         TA         TA     CBlock        TA   \n",
      "3          NaN           0.0         Gd         TA     CBlock        TA   \n",
      "4          NaN           0.0         TA         TA      PConc        Gd   \n",
      "\n",
      "  Bsmt Cond Bsmt Exposure BsmtFin Type 1  BsmtFin SF 1 BsmtFin Type 2  \\\n",
      "0        Gd            Gd            BLQ         639.0            Unf   \n",
      "1        TA            No            Rec         468.0            LwQ   \n",
      "2        TA            No            ALQ         923.0            Unf   \n",
      "3        TA            No            ALQ        1065.0            Unf   \n",
      "4        TA            No            GLQ         791.0            Unf   \n",
      "\n",
      "   BsmtFin SF 2  Bsmt Unf SF  Total Bsmt SF Heating Heating QC Central Air  \\\n",
      "0           0.0        441.0         1080.0    GasA         Fa           Y   \n",
      "1         144.0        270.0          882.0    GasA         TA           Y   \n",
      "2           0.0        406.0         1329.0    GasA         TA           Y   \n",
      "3           0.0       1045.0         2110.0    GasA         Ex           Y   \n",
      "4           0.0        137.0          928.0    GasA         Gd           Y   \n",
      "\n",
      "  Electrical  1st Flr SF  2nd Flr SF  Low Qual Fin SF  Gr Liv Area  \\\n",
      "0      SBrkr        1656           0                0         1656   \n",
      "1      SBrkr         896           0                0          896   \n",
      "2      SBrkr        1329           0                0         1329   \n",
      "3      SBrkr        2110           0                0         2110   \n",
      "4      SBrkr         928         701                0         1629   \n",
      "\n",
      "   Bsmt Full Bath  Bsmt Half Bath  Full Bath  Half Bath  Bedroom AbvGr  \\\n",
      "0             1.0             0.0          1          0              3   \n",
      "1             0.0             0.0          1          0              2   \n",
      "2             0.0             0.0          1          1              3   \n",
      "3             1.0             0.0          2          1              3   \n",
      "4             0.0             0.0          2          1              3   \n",
      "\n",
      "   Kitchen AbvGr Kitchen Qual  TotRms AbvGrd Functional  Fireplaces  \\\n",
      "0              1           TA              7        Typ           2   \n",
      "1              1           TA              5        Typ           0   \n",
      "2              1           Gd              6        Typ           0   \n",
      "3              1           Ex              8        Typ           2   \n",
      "4              1           TA              6        Typ           1   \n",
      "\n",
      "  Fireplace Qu Garage Type  Garage Yr Blt Garage Finish  Garage Cars  \\\n",
      "0           Gd      Attchd         1960.0           Fin          2.0   \n",
      "1          NaN      Attchd         1961.0           Unf          1.0   \n",
      "2          NaN      Attchd         1958.0           Unf          1.0   \n",
      "3           TA      Attchd         1968.0           Fin          2.0   \n",
      "4           TA      Attchd         1997.0           Fin          2.0   \n",
      "\n",
      "   Garage Area Garage Qual Garage Cond Paved Drive  Wood Deck SF  \\\n",
      "0        528.0          TA          TA           P           210   \n",
      "1        730.0          TA          TA           Y           140   \n",
      "2        312.0          TA          TA           Y           393   \n",
      "3        522.0          TA          TA           Y             0   \n",
      "4        482.0          TA          TA           Y           212   \n",
      "\n",
      "   Open Porch SF  Enclosed Porch  3Ssn Porch  Screen Porch  Pool Area Pool QC  \\\n",
      "0             62               0           0             0          0     NaN   \n",
      "1              0               0           0           120          0     NaN   \n",
      "2             36               0           0             0          0     NaN   \n",
      "3              0               0           0             0          0     NaN   \n",
      "4             34               0           0             0          0     NaN   \n",
      "\n",
      "   Fence Misc Feature  Misc Val  Mo Sold  Yr Sold Sale Type Sale Condition  \\\n",
      "0    NaN          NaN         0        5     2010       WD          Normal   \n",
      "1  MnPrv          NaN         0        6     2010       WD          Normal   \n",
      "2    NaN         Gar2     12500        6     2010       WD          Normal   \n",
      "3    NaN          NaN         0        4     2010       WD          Normal   \n",
      "4  MnPrv          NaN         0        3     2010       WD          Normal   \n",
      "\n",
      "   SalePrice  \n",
      "0     215000  \n",
      "1     105000  \n",
      "2     172000  \n",
      "3     244000  \n",
      "4     189900  \n"
     ]
    }
   ],
   "source": [
    "# Fetching the data from the Response\n",
    "with zipfile.ZipFile(io.BytesIO(response.content)) as z:\n",
    "    csv_name = [name for name in z.namelist() if name.endswith(\".csv\")][0]\n",
    "    print(csv_name)\n",
    "\n",
    "    with z.open(csv_name) as csv:\n",
    "        df = pd.read_csv(csv,engine=\"pyarrow\", dtype_backend=\"pyarrow\")\n",
    "        print(df.head())"
   ]
  },
  {
   "cell_type": "code",
   "execution_count": 4,
   "metadata": {},
   "outputs": [
    {
     "name": "stdout",
     "output_type": "stream",
     "text": [
      "/opt/homebrew/Caskroom/miniconda/base/envs/myenv/bin/python\n"
     ]
    }
   ],
   "source": [
    "import sys\n",
    "print(sys.executable)"
   ]
  },
  {
   "cell_type": "code",
   "execution_count": 5,
   "metadata": {},
   "outputs": [
    {
     "data": {
      "text/html": [
       "\n",
       "<style>\n",
       ".output_text, .output_stdout {\n",
       "    white-space: pre; /* Preserve whitespace */\n",
       "    overflow-x: auto; /* Enable horizontal scrolling */\n",
       "    display: block; /* Ensure block display */\n",
       "    max-width: 100%; /* Limit width to container */\n",
       "}\n",
       "</style>\n"
      ],
      "text/plain": [
       "<IPython.core.display.HTML object>"
      ]
     },
     "metadata": {},
     "output_type": "display_data"
    }
   ],
   "source": [
    "from IPython.display import display, HTML\n",
    "\n",
    "css = \"\"\"\n",
    "<style>\n",
    ".output_text, .output_stdout {\n",
    "    white-space: pre; /* Preserve whitespace */\n",
    "    overflow-x: auto; /* Enable horizontal scrolling */\n",
    "    display: block; /* Ensure block display */\n",
    "    max-width: 100%; /* Limit width to container */\n",
    "}\n",
    "</style>\n",
    "\"\"\"\n",
    "display(HTML(css))"
   ]
  },
  {
   "cell_type": "code",
   "execution_count": 6,
   "metadata": {},
   "outputs": [
    {
     "name": "stdout",
     "output_type": "stream",
     "text": [
      "(2930, 82)\n",
      "            Order           PID  MS SubClass  Lot Frontage       Lot Area  \\\n",
      "count  2930.00000  2.930000e+03  2930.000000   2440.000000    2930.000000   \n",
      "mean   1465.50000  7.144645e+08    57.387372     69.224590   10147.921843   \n",
      "std     845.96247  1.887308e+08    42.638025     23.365335    7880.017759   \n",
      "min       1.00000  5.263011e+08    20.000000     21.000000    1300.000000   \n",
      "25%     733.25000  5.284770e+08    20.000000     58.000000    7440.250000   \n",
      "50%    1465.50000  5.354536e+08    50.000000     68.000000    9436.500000   \n",
      "75%    2197.75000  9.071811e+08    70.000000     80.000000   11555.250000   \n",
      "max    2930.00000  1.007100e+09   190.000000    313.000000  215245.000000   \n",
      "\n",
      "       Overall Qual  Overall Cond   Year Built  Year Remod/Add  Mas Vnr Area  \\\n",
      "count   2930.000000   2930.000000  2930.000000     2930.000000   2907.000000   \n",
      "mean       6.094881      5.563140  1971.356314     1984.266553    101.896801   \n",
      "std        1.411026      1.111537    30.245361       20.860286    179.112611   \n",
      "min        1.000000      1.000000  1872.000000     1950.000000      0.000000   \n",
      "25%        5.000000      5.000000  1954.000000     1965.000000      0.000000   \n",
      "50%        6.000000      5.000000  1973.000000     1993.000000      0.000000   \n",
      "75%        7.000000      6.000000  2001.000000     2004.000000    164.000000   \n",
      "max       10.000000      9.000000  2010.000000     2010.000000   1600.000000   \n",
      "\n",
      "       BsmtFin SF 1  BsmtFin SF 2  Bsmt Unf SF  Total Bsmt SF   1st Flr SF  \\\n",
      "count   2929.000000   2929.000000  2929.000000    2929.000000  2930.000000   \n",
      "mean     442.629566     49.722431   559.262547    1051.614544  1159.557679   \n",
      "std      455.590839    169.168476   439.494153     440.615067   391.890885   \n",
      "min        0.000000      0.000000     0.000000       0.000000   334.000000   \n",
      "25%        0.000000      0.000000   219.000000     793.000000   876.250000   \n",
      "50%      370.000000      0.000000   466.000000     990.000000  1084.000000   \n",
      "75%      734.000000      0.000000   802.000000    1302.000000  1384.000000   \n",
      "max     5644.000000   1526.000000  2336.000000    6110.000000  5095.000000   \n",
      "\n",
      "        2nd Flr SF  Low Qual Fin SF  Gr Liv Area  Bsmt Full Bath  \\\n",
      "count  2930.000000      2930.000000  2930.000000     2928.000000   \n",
      "mean    335.455973         4.676792  1499.690444        0.431352   \n",
      "std     428.395715        46.310510   505.508887        0.524820   \n",
      "min       0.000000         0.000000   334.000000        0.000000   \n",
      "25%       0.000000         0.000000  1126.000000        0.000000   \n",
      "50%       0.000000         0.000000  1442.000000        0.000000   \n",
      "75%     703.750000         0.000000  1742.750000        1.000000   \n",
      "max    2065.000000      1064.000000  5642.000000        3.000000   \n",
      "\n",
      "       Bsmt Half Bath    Full Bath    Half Bath  Bedroom AbvGr  Kitchen AbvGr  \\\n",
      "count     2928.000000  2930.000000  2930.000000    2930.000000    2930.000000   \n",
      "mean         0.061134     1.566553     0.379522       2.854266       1.044369   \n",
      "std          0.245254     0.552941     0.502629       0.827731       0.214076   \n",
      "min          0.000000     0.000000     0.000000       0.000000       0.000000   \n",
      "25%          0.000000     1.000000     0.000000       2.000000       1.000000   \n",
      "50%          0.000000     2.000000     0.000000       3.000000       1.000000   \n",
      "75%          0.000000     2.000000     1.000000       3.000000       1.000000   \n",
      "max          2.000000     4.000000     2.000000       8.000000       3.000000   \n",
      "\n",
      "       TotRms AbvGrd   Fireplaces  Garage Yr Blt  Garage Cars  Garage Area  \\\n",
      "count    2930.000000  2930.000000    2771.000000  2929.000000  2929.000000   \n",
      "mean        6.443003     0.599317    1978.132443     1.766815   472.819734   \n",
      "std         1.572964     0.647921      25.528411     0.760566   215.046549   \n",
      "min         2.000000     0.000000    1895.000000     0.000000     0.000000   \n",
      "25%         5.000000     0.000000    1960.000000     1.000000   320.000000   \n",
      "50%         6.000000     1.000000    1979.000000     2.000000   480.000000   \n",
      "75%         7.000000     1.000000    2002.000000     2.000000   576.000000   \n",
      "max        15.000000     4.000000    2207.000000     5.000000  1488.000000   \n",
      "\n",
      "       Wood Deck SF  Open Porch SF  Enclosed Porch   3Ssn Porch  Screen Porch  \\\n",
      "count   2930.000000    2930.000000     2930.000000  2930.000000   2930.000000   \n",
      "mean      93.751877      47.533447       23.011604     2.592491     16.002048   \n",
      "std      126.361562      67.483400       64.139059    25.141331     56.087370   \n",
      "min        0.000000       0.000000        0.000000     0.000000      0.000000   \n",
      "25%        0.000000       0.000000        0.000000     0.000000      0.000000   \n",
      "50%        0.000000      27.000000        0.000000     0.000000      0.000000   \n",
      "75%      168.000000      70.000000        0.000000     0.000000      0.000000   \n",
      "max     1424.000000     742.000000     1012.000000   508.000000    576.000000   \n",
      "\n",
      "         Pool Area      Misc Val      Mo Sold      Yr Sold      SalePrice  \n",
      "count  2930.000000   2930.000000  2930.000000  2930.000000    2930.000000  \n",
      "mean      2.243345     50.635154     6.216041  2007.790444  180796.060068  \n",
      "std      35.597181    566.344288     2.714492     1.316613   79886.692357  \n",
      "min       0.000000      0.000000     1.000000  2006.000000   12789.000000  \n",
      "25%       0.000000      0.000000     4.000000  2007.000000  129500.000000  \n",
      "50%       0.000000      0.000000     6.000000  2008.000000  160000.000000  \n",
      "75%       0.000000      0.000000     8.000000  2009.000000  213500.000000  \n",
      "max     800.000000  17000.000000    12.000000  2010.000000  755000.000000  \n"
     ]
    }
   ],
   "source": [
    "print(df.shape)\n",
    "print(df.describe())"
   ]
  },
  {
   "cell_type": "code",
   "execution_count": 7,
   "metadata": {},
   "outputs": [
    {
     "name": "stdout",
     "output_type": "stream",
     "text": [
      "Order               int64\n",
      "PID                 int64\n",
      "MS SubClass         int64\n",
      "MS Zoning          object\n",
      "Lot Frontage      float64\n",
      "                   ...   \n",
      "Mo Sold             int64\n",
      "Yr Sold             int64\n",
      "Sale Type          object\n",
      "Sale Condition     object\n",
      "SalePrice           int64\n",
      "Length: 82, dtype: object\n"
     ]
    }
   ],
   "source": [
    "print(df.dtypes)"
   ]
  },
  {
   "cell_type": "code",
   "execution_count": 8,
   "metadata": {},
   "outputs": [
    {
     "name": "stdout",
     "output_type": "stream",
     "text": [
      "Empty DataFrame\n",
      "Columns: []\n",
      "Index: [0, 1, 2, 3, 4, 5, 6, 7, 8, 9, 10, 11, 12, 13, 14, 15, 16, 17, 18, 19, 20, 21, 22, 23, 24, 25, 26, 27, 28, 29, 30, 31, 32, 33, 34, 35, 36, 37, 38, 39, 40, 41, 42, 43, 44, 45, 46, 47, 48, 49, 50, 51, 52, 53, 54, 55, 56, 57, 58, 59, 60, 61, 62, 63, 64, 65, 66, 67, 68, 69, 70, 71, 72, 73, 74, 75, 76, 77, 78, 79, 80, 81, 82, 83, 84, 85, 86, 87, 88, 89, 90, 91, 92, 93, 94, 95, 96, 97, 98, 99, ...]\n",
      "\n",
      "[2930 rows x 0 columns]\n"
     ]
    }
   ],
   "source": [
    "print(df.select_dtypes('string'))"
   ]
  },
  {
   "cell_type": "code",
   "execution_count": 9,
   "metadata": {},
   "outputs": [
    {
     "name": "stdout",
     "output_type": "stream",
     "text": [
      "None\n"
     ]
    }
   ],
   "source": [
    "print(pd.get_option('display.max_columns'))"
   ]
  },
  {
   "cell_type": "code",
   "execution_count": 10,
   "metadata": {},
   "outputs": [
    {
     "ename": "ValueError",
     "evalue": "Cannot describe a DataFrame without columns",
     "output_type": "error",
     "traceback": [
      "\u001b[0;31m---------------------------------------------------------------------------\u001b[0m",
      "\u001b[0;31mValueError\u001b[0m                                Traceback (most recent call last)",
      "Cell \u001b[0;32mIn[10], line 1\u001b[0m\n\u001b[0;32m----> 1\u001b[0m df\u001b[38;5;241m.\u001b[39mselect_dtypes(\u001b[38;5;124m'\u001b[39m\u001b[38;5;124mstring\u001b[39m\u001b[38;5;124m'\u001b[39m)\u001b[38;5;241m.\u001b[39mdescribe()\u001b[38;5;241m.\u001b[39mT\n",
      "File \u001b[0;32m/opt/homebrew/Caskroom/miniconda/base/envs/myenv/lib/python3.12/site-packages/pandas/core/generic.py:11976\u001b[0m, in \u001b[0;36mNDFrame.describe\u001b[0;34m(self, percentiles, include, exclude)\u001b[0m\n\u001b[1;32m  11734\u001b[0m \u001b[38;5;129m@final\u001b[39m\n\u001b[1;32m  11735\u001b[0m \u001b[38;5;28;01mdef\u001b[39;00m \u001b[38;5;21mdescribe\u001b[39m(\n\u001b[1;32m  11736\u001b[0m     \u001b[38;5;28mself\u001b[39m,\n\u001b[0;32m   (...)\u001b[0m\n\u001b[1;32m  11739\u001b[0m     exclude\u001b[38;5;241m=\u001b[39m\u001b[38;5;28;01mNone\u001b[39;00m,\n\u001b[1;32m  11740\u001b[0m ) \u001b[38;5;241m-\u001b[39m\u001b[38;5;241m>\u001b[39m Self:\n\u001b[1;32m  11741\u001b[0m \u001b[38;5;250m    \u001b[39m\u001b[38;5;124;03m\"\"\"\u001b[39;00m\n\u001b[1;32m  11742\u001b[0m \u001b[38;5;124;03m    Generate descriptive statistics.\u001b[39;00m\n\u001b[1;32m  11743\u001b[0m \n\u001b[0;32m   (...)\u001b[0m\n\u001b[1;32m  11974\u001b[0m \u001b[38;5;124;03m    max            NaN      3.0\u001b[39;00m\n\u001b[1;32m  11975\u001b[0m \u001b[38;5;124;03m    \"\"\"\u001b[39;00m\n\u001b[0;32m> 11976\u001b[0m     \u001b[38;5;28;01mreturn\u001b[39;00m describe_ndframe(\n\u001b[1;32m  11977\u001b[0m         obj\u001b[38;5;241m=\u001b[39m\u001b[38;5;28mself\u001b[39m,\n\u001b[1;32m  11978\u001b[0m         include\u001b[38;5;241m=\u001b[39minclude,\n\u001b[1;32m  11979\u001b[0m         exclude\u001b[38;5;241m=\u001b[39mexclude,\n\u001b[1;32m  11980\u001b[0m         percentiles\u001b[38;5;241m=\u001b[39mpercentiles,\n\u001b[1;32m  11981\u001b[0m     )\u001b[38;5;241m.\u001b[39m__finalize__(\u001b[38;5;28mself\u001b[39m, method\u001b[38;5;241m=\u001b[39m\u001b[38;5;124m\"\u001b[39m\u001b[38;5;124mdescribe\u001b[39m\u001b[38;5;124m\"\u001b[39m)\n",
      "File \u001b[0;32m/opt/homebrew/Caskroom/miniconda/base/envs/myenv/lib/python3.12/site-packages/pandas/core/methods/describe.py:91\u001b[0m, in \u001b[0;36mdescribe_ndframe\u001b[0;34m(obj, include, exclude, percentiles)\u001b[0m\n\u001b[1;32m     87\u001b[0m     describer \u001b[38;5;241m=\u001b[39m SeriesDescriber(\n\u001b[1;32m     88\u001b[0m         obj\u001b[38;5;241m=\u001b[39mcast(\u001b[38;5;124m\"\u001b[39m\u001b[38;5;124mSeries\u001b[39m\u001b[38;5;124m\"\u001b[39m, obj),\n\u001b[1;32m     89\u001b[0m     )\n\u001b[1;32m     90\u001b[0m \u001b[38;5;28;01melse\u001b[39;00m:\n\u001b[0;32m---> 91\u001b[0m     describer \u001b[38;5;241m=\u001b[39m DataFrameDescriber(\n\u001b[1;32m     92\u001b[0m         obj\u001b[38;5;241m=\u001b[39mcast(\u001b[38;5;124m\"\u001b[39m\u001b[38;5;124mDataFrame\u001b[39m\u001b[38;5;124m\"\u001b[39m, obj),\n\u001b[1;32m     93\u001b[0m         include\u001b[38;5;241m=\u001b[39minclude,\n\u001b[1;32m     94\u001b[0m         exclude\u001b[38;5;241m=\u001b[39mexclude,\n\u001b[1;32m     95\u001b[0m     )\n\u001b[1;32m     97\u001b[0m result \u001b[38;5;241m=\u001b[39m describer\u001b[38;5;241m.\u001b[39mdescribe(percentiles\u001b[38;5;241m=\u001b[39mpercentiles)\n\u001b[1;32m     98\u001b[0m \u001b[38;5;28;01mreturn\u001b[39;00m cast(NDFrameT, result)\n",
      "File \u001b[0;32m/opt/homebrew/Caskroom/miniconda/base/envs/myenv/lib/python3.12/site-packages/pandas/core/methods/describe.py:162\u001b[0m, in \u001b[0;36mDataFrameDescriber.__init__\u001b[0;34m(self, obj, include, exclude)\u001b[0m\n\u001b[1;32m    159\u001b[0m \u001b[38;5;28mself\u001b[39m\u001b[38;5;241m.\u001b[39mexclude \u001b[38;5;241m=\u001b[39m exclude\n\u001b[1;32m    161\u001b[0m \u001b[38;5;28;01mif\u001b[39;00m obj\u001b[38;5;241m.\u001b[39mndim \u001b[38;5;241m==\u001b[39m \u001b[38;5;241m2\u001b[39m \u001b[38;5;129;01mand\u001b[39;00m obj\u001b[38;5;241m.\u001b[39mcolumns\u001b[38;5;241m.\u001b[39msize \u001b[38;5;241m==\u001b[39m \u001b[38;5;241m0\u001b[39m:\n\u001b[0;32m--> 162\u001b[0m     \u001b[38;5;28;01mraise\u001b[39;00m \u001b[38;5;167;01mValueError\u001b[39;00m(\u001b[38;5;124m\"\u001b[39m\u001b[38;5;124mCannot describe a DataFrame without columns\u001b[39m\u001b[38;5;124m\"\u001b[39m)\n\u001b[1;32m    164\u001b[0m \u001b[38;5;28msuper\u001b[39m()\u001b[38;5;241m.\u001b[39m\u001b[38;5;21m__init__\u001b[39m(obj)\n",
      "\u001b[0;31mValueError\u001b[0m: Cannot describe a DataFrame without columns"
     ]
    }
   ],
   "source": [
    "df.select_dtypes('string').describe().T"
   ]
  },
  {
   "cell_type": "code",
   "execution_count": null,
   "metadata": {},
   "outputs": [],
   "source": [
    "#prints the number of bytes the String uses before converting into astype - category\n",
    "print(df.select_dtypes('string')\n",
    "      .memory_usage(deep=True)\n",
    "      .sum())"
   ]
  },
  {
   "cell_type": "code",
   "execution_count": null,
   "metadata": {},
   "outputs": [],
   "source": [
    "# prints the number of Kb bytes the indiviudal column of String uses\n",
    "print(df.select_dtypes('string')\n",
    "        .astype('category')\n",
    "        .memory_usage(deep=True))"
   ]
  },
  {
   "cell_type": "code",
   "execution_count": null,
   "metadata": {},
   "outputs": [],
   "source": [
    "#prints the number of bytes the String uses before after into astype - category\n",
    "print(df.select_dtypes('string')\n",
    "      .astype('category')\n",
    "      .memory_usage(deep=True)\n",
    "      .sum())"
   ]
  },
  {
   "cell_type": "code",
   "execution_count": null,
   "metadata": {},
   "outputs": [],
   "source": [
    "929599/137945 # This shows converting to category, the low cardinality String Columns has better memory usage\n",
    "# also using category shows it's 6 times more than the regular String datatype column"
   ]
  },
  {
   "cell_type": "code",
   "execution_count": null,
   "metadata": {},
   "outputs": [],
   "source": [
    "print(df\n",
    "      .isna()\n",
    "      .mean()\n",
    "      .mul(100)\n",
    "      .pipe(lambda seri : seri[seri > 0]))"
   ]
  },
  {
   "cell_type": "code",
   "execution_count": null,
   "metadata": {},
   "outputs": [],
   "source": [
    "# Missing string values\n",
    "(df\n",
    " .select_dtypes('string')\n",
    " .eq('')\n",
    " .mean() \n",
    " .mul(100)\n",
    " .pipe(lambda ser: ser[ser > 0])\n",
    ")"
   ]
  },
  {
   "cell_type": "code",
   "execution_count": null,
   "metadata": {},
   "outputs": [],
   "source": [
    "(df\n",
    " .select_dtypes('string')\n",
    " .eq('')\n",
    " .any(axis='columns')\n",
    ")"
   ]
  },
  {
   "cell_type": "code",
   "execution_count": null,
   "metadata": {},
   "outputs": [],
   "source": [
    "# Looks like many values are NA\n",
    "# Missing string values (Encoded as NA)\n",
    "(df\n",
    " .select_dtypes('string')\n",
    " .eq('NA')\n",
    " .mean() \n",
    " .mul(100)\n",
    " .pipe(lambda ser: ser[ser > 0])\n",
    ")"
   ]
  },
  {
   "cell_type": "code",
   "execution_count": null,
   "metadata": {},
   "outputs": [],
   "source": [
    "# deleting\n",
    "# Notice Alley is NA!\n",
    "#Gives Rows that are missing values\n",
    "(df\n",
    " [~df.select_dtypes('string').eq('').any(axis='columns')]\n",
    ")"
   ]
  },
  {
   "cell_type": "code",
   "execution_count": null,
   "metadata": {},
   "outputs": [],
   "source": [
    "(df\n",
    " .query('`Pool QC`.isna()')\n",
    ")"
   ]
  },
  {
   "cell_type": "code",
   "execution_count": null,
   "metadata": {},
   "outputs": [],
   "source": [
    "(df\n",
    " .query('`Pool QC` == \"NA\"')\n",
    ")"
   ]
  },
  {
   "cell_type": "code",
   "execution_count": null,
   "metadata": {},
   "outputs": [],
   "source": [
    "#Assign generally takes a parameter, para1=column_name, para2=generate_value Result =new column + generated_value. \n",
    "# But if we pass ** + dataframe, it takes the df and updates the value accordingly\n",
    "# tells Pandas to replace the True values with the string 'Not Applicable'\n",
    "print(df\n",
    "      .assign(** df.select_dtypes('string').isna().replace(to_replace=True,value='Not Applicable')))"
   ]
  },
  {
   "cell_type": "code",
   "execution_count": null,
   "metadata": {},
   "outputs": [],
   "source": [
    "# Even if you're only checking for a single value, .isin() expects a collection as its argument. , To findall list, we pass list[]\n",
    "string_cols = df.select_dtypes(include='object').columns #Use object for recent pandas versions.\n",
    "print(df\n",
    "      [df[string_cols]\n",
    "       .isin(['Not Applicable']).any(axis='columns')]\n",
    "      )"
   ]
  },
  {
   "cell_type": "code",
   "execution_count": null,
   "metadata": {},
   "outputs": [],
   "source": [
    "print(df\n",
    "      .assign(** df.select_dtypes('string').replace('','Not Applicable')))"
   ]
  },
  {
   "cell_type": "code",
   "execution_count": null,
   "metadata": {},
   "outputs": [],
   "source": [
    "df['Electrical'].value_counts(dropna=False)"
   ]
  },
  {
   "cell_type": "code",
   "execution_count": null,
   "metadata": {},
   "outputs": [],
   "source": [
    "(df\n",
    "    .query('Electrical.isna()'))"
   ]
  },
  {
   "cell_type": "code",
   "execution_count": null,
   "metadata": {},
   "outputs": [],
   "source": [
    "#pandas value_counts() function by default, excludes NaN values. dropna=False ensures that NaN values are included in the count\n",
    "(df['Fireplace Qu']\n",
    " .value_counts(dropna=False))"
   ]
  },
  {
   "cell_type": "code",
   "execution_count": null,
   "metadata": {},
   "outputs": [],
   "source": [
    "(df['Bsmt Cond']\n",
    "    .value_counts(dropna=False))"
   ]
  },
  {
   "cell_type": "code",
   "execution_count": null,
   "metadata": {},
   "outputs": [],
   "source": [
    "# memory usage before converting the String to categories\n",
    "(df.assign(\n",
    "  **  df.select_dtypes('string')\n",
    " .isna()\n",
    " .replace(to_replace=True,value='Not Applicable')\n",
    ")\n",
    ".memory_usage(deep=True)\n",
    ".sum()\n",
    " )"
   ]
  },
  {
   "cell_type": "code",
   "execution_count": null,
   "metadata": {},
   "outputs": [],
   "source": [
    "# memory usage after converting the String to categories\n",
    "\n",
    "(df\n",
    " .assign(\n",
    "    ** df.select_dtypes('string')\n",
    "    .isna()\n",
    "    .replace(to_replace=True, value='Not Applicable')\n",
    "    .astype('category')\n",
    ")\n",
    ".memory_usage(deep=True)\n",
    ".sum()\n",
    ")"
   ]
  },
  {
   "cell_type": "code",
   "execution_count": null,
   "metadata": {},
   "outputs": [],
   "source": [
    "# memory usage before converting the String to categories\n",
    "(df.assign(\n",
    "  **  df.select_dtypes('string')\n",
    " .replace('','Not Applicable')\n",
    ")\n",
    ".memory_usage(deep=True)\n",
    ".sum()\n",
    " )"
   ]
  },
  {
   "cell_type": "code",
   "execution_count": null,
   "metadata": {},
   "outputs": [],
   "source": [
    "# memory usage before converting the String to categories\n",
    "(df.assign(\n",
    "  **  df.select_dtypes('string')\n",
    " .replace('','Not Applicable')\n",
    " .astype('category')\n",
    ")\n",
    ".memory_usage(deep=True)\n",
    ".sum()\n",
    " )"
   ]
  }
 ],
 "metadata": {
  "kernelspec": {
   "display_name": "Python 3 (ipykernel)",
   "language": "python",
   "name": "python3"
  },
  "language_info": {
   "codemirror_mode": {
    "name": "ipython",
    "version": 3
   },
   "file_extension": ".py",
   "mimetype": "text/x-python",
   "name": "python",
   "nbconvert_exporter": "python",
   "pygments_lexer": "ipython3",
   "version": "3.12.7"
  }
 },
 "nbformat": 4,
 "nbformat_minor": 4
}
